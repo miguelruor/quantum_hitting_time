{
  "nbformat": 4,
  "nbformat_minor": 0,
  "metadata": {
    "colab": {
      "name": "ProofConcept(QuantumWalk).ipynb",
      "provenance": [],
      "collapsed_sections": []
    },
    "kernelspec": {
      "name": "python3",
      "display_name": "Python 3"
    },
    "language_info": {
      "name": "python"
    }
  },
  "cells": [
    {
      "cell_type": "markdown",
      "metadata": {
        "id": "4mb_ZOeq3Dv8"
      },
      "source": [
        "# Simulations of a continuous-time quantum walk on a simple graph"
      ]
    },
    {
      "cell_type": "code",
      "metadata": {
        "id": "pPJmrj2i2_qb"
      },
      "source": [
        "import networkx as nx\n",
        "import numpy as np\n",
        "import matplotlib.pyplot as plt\n",
        "from scipy.sparse.linalg import expm_multiply\n",
        "from scipy.sparse.linalg import expm\n",
        "from scipy.stats import expon\n",
        "import pandas as pd\n",
        "import json\n",
        "import time\n",
        "import gc\n",
        "import random"
      ],
      "execution_count": 3,
      "outputs": []
    },
    {
      "cell_type": "code",
      "metadata": {
        "colab": {
          "base_uri": "https://localhost:8080/"
        },
        "id": "j4dkKgnkZoEd",
        "outputId": "6cec83a2-d3e3-425d-82e1-565f07bf0aef"
      },
      "source": [
        "from google.colab import drive\n",
        "drive.mount('/content/drive')"
      ],
      "execution_count": 4,
      "outputs": [
        {
          "output_type": "stream",
          "name": "stdout",
          "text": [
            "Mounted at /content/drive\n"
          ]
        }
      ]
    },
    {
      "cell_type": "markdown",
      "metadata": {
        "id": "f4K0krne4qQB"
      },
      "source": [
        "# Functions"
      ]
    },
    {
      "cell_type": "markdown",
      "metadata": {
        "id": "OxQqBOzUS4Bp"
      },
      "source": [
        "Function to obtain the Hamiltonian associated to a given graph and the transition rate"
      ]
    },
    {
      "cell_type": "code",
      "metadata": {
        "id": "12IK3JlvS9AY"
      },
      "source": [
        "def giveMeHamiltonian(G, gamma, typeMatrix=\"laplacian\"):\n",
        "  # typeMatrix could be \"adjacency\" to use the adjacency matrix based Hamiltoninan \n",
        "  # or \"laplacian\" (default) to use the Laplacian matrix based Hamiltonian\n",
        "  # gamma is the mutation rate \n",
        "\n",
        "  if typeMatrix == \"adjacency\":\n",
        "    A = nx.adjacency_matrix(G)\n",
        "  else:\n",
        "    A = nx.laplacian_matrix(G)\n",
        "\n",
        "  H = -gamma* A\n",
        "\n",
        "  return H"
      ],
      "execution_count": 5,
      "outputs": []
    },
    {
      "cell_type": "markdown",
      "metadata": {
        "id": "0VkLqt3pfCmt"
      },
      "source": [
        "Function to calculate the i-th canonical vector in $C^n$"
      ]
    },
    {
      "cell_type": "code",
      "metadata": {
        "id": "9Cux3Pen5BrJ"
      },
      "source": [
        "def canonical_vector(i, n):\n",
        "  # i-esimo vector canonico en C^n\n",
        "  ei = np.zeros(n)\n",
        "  ei[i] = 1.0\n",
        "  return ei"
      ],
      "execution_count": 6,
      "outputs": []
    },
    {
      "cell_type": "markdown",
      "metadata": {
        "id": "LF3_AK7Lz2LU"
      },
      "source": [
        "Function to simulate a measurement of the quantum walk"
      ]
    },
    {
      "cell_type": "code",
      "metadata": {
        "id": "ZGxxgt9yz5vx"
      },
      "source": [
        "def measurement(state, basis):\n",
        "  # state is a vector in C^N\n",
        "\n",
        "  qprobs = [abs(state[v])**2 for v in basis]\n",
        "  collapse = np.random.choice(basis, p=qprobs)\n",
        "\n",
        "  return collapse"
      ],
      "execution_count": 7,
      "outputs": []
    },
    {
      "cell_type": "code",
      "metadata": {
        "id": "k0364HHA3k93"
      },
      "source": [
        "def estimateTransitionMatrix(H, measurement_rate, N):\n",
        "  # H is the Hamiltonian of the quantum walk\n",
        "  # N is the number of realizations of the exponential random variable that determines the time at which we measure the quantum walk\n",
        "  \n",
        "  M = H.shape[0]\n",
        "\n",
        "  times = expon.rvs(scale=1/measurement_rate, size=N)\n",
        "  \n",
        "  expected_matrix = np.zeros((M, M))\n",
        "\n",
        "  computed_times = np.zeros(N)\n",
        "\n",
        "  for k, t in enumerate(times):\n",
        "    start = time.time()\n",
        "\n",
        "    evolution_matrix = expm(-1j*t*H)\n",
        "\n",
        "    for i in range(M):\n",
        "      for j in range(M):\n",
        "        expected_matrix[i, j] += abs(evolution_matrix[i,j])**2\n",
        "\n",
        "    end = time.time()\n",
        "\n",
        "    del evolution_matrix\n",
        "    gc.collect()\n",
        "\n",
        "    computed_times[k] = end-start\n",
        "  \n",
        "  expected_matrix = expected_matrix/N\n",
        "\n",
        "  print(\"Average time =\", computed_times.mean())\n",
        "\n",
        "  return expected_matrix, computed_times"
      ],
      "execution_count": 27,
      "outputs": []
    },
    {
      "cell_type": "code",
      "metadata": {
        "id": "CFc7oKij3dwW"
      },
      "source": [
        "# hitting time (mean first passage time) to F of a discrete Markov chain \n",
        "def computeHittingTimes_d(transition_matrix, F):\n",
        "  start = time.time()\n",
        "\n",
        "  A = np.delete(transition_matrix, F, axis=0)\n",
        "  A = np.delete(A, F, axis = 1)\n",
        "  A = A - np.identity(A.shape[0])\n",
        "\n",
        "  b = np.array([-1 for i in range(transition_matrix.shape[0] - len(F))])\n",
        "\n",
        "  x = np.linalg.solve(A, b)\n",
        "\n",
        "  for i in F:\n",
        "    # F it is supposed to be ordered\n",
        "    x = np.insert(x, i, 0)\n",
        "\n",
        "  end = time.time()\n",
        "\n",
        "  print(end-start)\n",
        "\n",
        "  return x, end-start"
      ],
      "execution_count": 29,
      "outputs": []
    },
    {
      "cell_type": "code",
      "metadata": {
        "id": "zI4M5Tx_-46D"
      },
      "source": [
        "# hitting time to F of a continuous quantum walk\n",
        "def computeHittingTimes_q(hamiltonian, measurement_rate, F, N=500):\n",
        "  T = estimateTransitionMatrix(hamiltonian, measurement_rate, N)\n",
        "  return (1/measurement_rate)*computeHittingTimes_d(T, F)"
      ],
      "execution_count": 30,
      "outputs": []
    },
    {
      "cell_type": "code",
      "metadata": {
        "id": "xSEW0669fjVe"
      },
      "source": [
        "def continuousQuantumWalk(graph, marked_nodes, initial_state, gamma, measurement_rate, max_simulation_time):\n",
        "  finded = False\n",
        "\n",
        "  M = graph.order()\n",
        "\n",
        "  H = -gamma*nx.laplacian_matrix(graph).toarray()\n",
        "\n",
        "  no_measurement = 0\n",
        "  total_jumps = 0\n",
        "  time = 0\n",
        " \n",
        "  actual_state = initial_state \n",
        "\n",
        "  # Start of simulation\n",
        "  while time < max_simulation_time:\n",
        "    if actual_state in marked_nodes: # if we find one of the marked nodes\n",
        "      finded = True\n",
        "      break\n",
        "      \n",
        "    T = expon.rvs(scale=1/measurement_rate, size=1)[0] # time between measurements\n",
        "    time += T\n",
        "    \n",
        "    # evolving quantum walk\n",
        "    actual_state_vec = canonical_vector(actual_state, M) # vector representing genotype actual_state\n",
        "    actual_state_vec = expm_multiply(-1j*T*H, actual_state_vec) # evolve quantum walk until time T with actual_state as initial state\n",
        "    measurement_result = measurement(actual_state_vec, graph.nodes)\n",
        "    no_measurement += 1\n",
        "\n",
        "    if measurement_result != actual_state:\n",
        "      total_jumps += 1\n",
        "\n",
        "    actual_state = measurement_result\n",
        "      \n",
        "  # End of simulation\n",
        "  \n",
        "  simulations_results_aux = {'initial state': initial_state, 'transition rate': gamma, 'measurement rate': measurement_rate, 'simulation time': time, \n",
        "                             'total measurements': no_measurement, 'total jumps': total_jumps, 'finded': finded}\n",
        "\n",
        "  return simulations_results_aux"
      ],
      "execution_count": 31,
      "outputs": []
    },
    {
      "cell_type": "markdown",
      "metadata": {
        "id": "oEq4UDfEDr3u"
      },
      "source": [
        "# Simulations"
      ]
    },
    {
      "cell_type": "code",
      "metadata": {
        "id": "SQ_EoJclGmnB"
      },
      "source": [
        "G = nx.Graph()\n",
        "G.add_nodes_from([i for i in range(16)])\n",
        "G.add_edges_from([(0,1), (0,2), (1, 3), (1, 4), (2, 4), (2, 5), (3,6), (3,7), (4, 7), (4, 8), (5, 8), (5, 9), \n",
        "                  (6, 10), (7, 10), (7, 11), (8, 11), (8, 12), (9, 12), (10, 13), (11, 13), (11, 14), (12, 14), \n",
        "                  (13, 15), (14, 15)])\n",
        "\n",
        "# colors of nodes\n",
        "color_map = []\n",
        "for v in G:\n",
        "  if v == 0:\n",
        "    color_map.append(\"green\")\n",
        "  elif v == 12 or v == 14 or v == 15:\n",
        "    color_map.append(\"red\")\n",
        "  else:\n",
        "    color_map.append(\"blue\")"
      ],
      "execution_count": 16,
      "outputs": []
    },
    {
      "cell_type": "code",
      "metadata": {
        "colab": {
          "base_uri": "https://localhost:8080/",
          "height": 319
        },
        "id": "os513P9IE3Ci",
        "outputId": "f0d0e243-7619-455a-ef0b-7b12fed1a557"
      },
      "source": [
        "nx.draw(G, with_labels=True, node_color=color_map, font_color='white')"
      ],
      "execution_count": 17,
      "outputs": [
        {
          "output_type": "display_data",
          "data": {
            "text/plain": [
              "<Figure size 432x288 with 1 Axes>"
            ],
            "image/png": "[encoded data removed]"
          },
          "metadata": {}
        }
      ]
    },
    {
      "cell_type": "code",
      "metadata": {
        "id": "Xig2cxu-4Uue"
      },
      "source": [
        "# marked nodes\n",
        "F = [12, 14, 15] # grid example"
      ],
      "execution_count": 18,
      "outputs": []
    },
    {
      "cell_type": "code",
      "metadata": {
        "id": "TsiqchjY4VrS"
      },
      "source": [
        "measurement_rate = 0.5\n",
        "gamma_q = 0.1 \n",
        "H = -gamma_q*nx.laplacian_matrix(G).toarray()\n",
        "max_simulation_time = 3000"
      ],
      "execution_count": 19,
      "outputs": []
    },
    {
      "cell_type": "code",
      "metadata": {
        "id": "l6rZHNf_VFrC"
      },
      "source": [
        "initial_node = 0 "
      ],
      "execution_count": 20,
      "outputs": []
    },
    {
      "cell_type": "code",
      "metadata": {
        "id": "Cyrwa3kEiJqu"
      },
      "source": [
        "T, compute_times = estimateTransitionMatrix(H, measurement_rate, N=5000)"
      ],
      "execution_count": null,
      "outputs": []
    },
    {
      "cell_type": "code",
      "source": [
        "T.save(\"/content/drive/My Drive/Thesis/Code/newData/proof_concept/2d-grid-4-transition_matrix-gamma0.1-mr2.npy\")"
      ],
      "metadata": {
        "id": "1ZgizyuXuB5K"
      },
      "execution_count": null,
      "outputs": []
    },
    {
      "cell_type": "code",
      "metadata": {
        "id": "Q97T0jyKp7q2"
      },
      "source": [
        "#T = np.load(\"/content/drive/My Drive/Thesis/Code/newData/proof_concept/2d-grid-4-transition_matrix-gamma0.1-mr2.npy\")"
      ],
      "execution_count": 21,
      "outputs": []
    },
    {
      "cell_type": "code",
      "metadata": {
        "colab": {
          "base_uri": "https://localhost:8080/"
        },
        "id": "fFNDiprUi1zu",
        "outputId": "74171808-d8b7-44ce-e06d-8b001e1fd8bc"
      },
      "source": [
        "hitting_times_qd = computeHittingTimes_d(T, F)[0]"
      ],
      "execution_count": 22,
      "outputs": [
        {
          "output_type": "stream",
          "name": "stdout",
          "text": [
            "0.0016803741455078125\n"
          ]
        }
      ]
    },
    {
      "cell_type": "code",
      "metadata": {
        "colab": {
          "base_uri": "https://localhost:8080/"
        },
        "id": "OisNFJ-vjcEl",
        "outputId": "1b4a872f-aedf-464c-fc80-a52a68730b0b"
      },
      "source": [
        "hitting_times_qd"
      ],
      "execution_count": 23,
      "outputs": [
        {
          "output_type": "execute_result",
          "data": {
            "text/plain": [
              "array([96.17544923, 94.64284947, 85.40828351, 92.70133192, 82.25930956,\n",
              "       66.08042589, 91.49158971, 79.11145707, 56.27784158, 46.46794966,\n",
              "       77.49085966, 50.94940538,  0.        , 49.09342077,  0.        ,\n",
              "        0.        ])"
            ]
          },
          "metadata": {},
          "execution_count": 23
        }
      ]
    },
    {
      "cell_type": "code",
      "metadata": {
        "colab": {
          "base_uri": "https://localhost:8080/"
        },
        "id": "rUGcYQAnjh-a",
        "outputId": "d68ded86-a21f-4298-be44-7c87f8b34010"
      },
      "source": [
        "hitting_times_q = (1/measurement_rate)*hitting_times_qd\n",
        "hitting_times_q"
      ],
      "execution_count": 24,
      "outputs": [
        {
          "output_type": "execute_result",
          "data": {
            "text/plain": [
              "array([192.35089847, 189.28569895, 170.81656701, 185.40266385,\n",
              "       164.51861912, 132.16085177, 182.98317941, 158.22291414,\n",
              "       112.55568316,  92.93589931, 154.98171933, 101.89881076,\n",
              "         0.        ,  98.18684154,   0.        ,   0.        ])"
            ]
          },
          "metadata": {},
          "execution_count": 24
        }
      ]
    },
    {
      "cell_type": "code",
      "metadata": {
        "id": "OpnkRdxfWRQN"
      },
      "source": [
        "results_qw = pd.DataFrame()"
      ],
      "execution_count": null,
      "outputs": []
    },
    {
      "cell_type": "code",
      "metadata": {
        "id": "SAqbuI7_hi3e"
      },
      "source": [
        "for i in range(2000):\n",
        "  results_qw = results_qw.append(continuousQuantumWalk(graph=G, marked_nodes = F, initial_state=initial_node, gamma=gamma_q, measurement_rate=measurement_rate, max_simulation_time=max_simulation_time), ignore_index=True)"
      ],
      "execution_count": null,
      "outputs": []
    },
    {
      "cell_type": "code",
      "metadata": {
        "id": "vd4FLGcZlBDy"
      },
      "source": [
        "results_qw.to_csv(\"/content/drive/My Drive/Thesis/Code/hitting_time_paper/experiment_results.csv\")"
      ],
      "execution_count": 46,
      "outputs": []
    },
    {
      "cell_type": "code",
      "metadata": {
        "id": "I8utNAyWlBDz"
      },
      "source": [
        "#results_qw = pd.read_csv(\"/content/drive/My Drive/Thesis/Code/hitting_time_paper/experiment_results.csv\", index_col=0)"
      ],
      "execution_count": 32,
      "outputs": []
    },
    {
      "cell_type": "code",
      "metadata": {
        "colab": {
          "base_uri": "https://localhost:8080/",
          "height": 424
        },
        "id": "yE0S6zGn-Mem",
        "outputId": "82e6e5ca-1080-4149-f375-f1c590300936"
      },
      "source": [
        "results_qw"
      ],
      "execution_count": 44,
      "outputs": [
        {
          "output_type": "execute_result",
          "data": {
            "text/plain": [
              "      measurement rate  finded  initial state  simulation time  total jumps  \\\n",
              "0                  0.5     1.0            0.0       487.333820         33.0   \n",
              "1                  0.5     1.0            0.0       249.736517         21.0   \n",
              "2                  0.5     1.0            0.0       131.682535          9.0   \n",
              "3                  0.5     1.0            0.0       126.648172         10.0   \n",
              "4                  0.5     1.0            0.0        81.469035          4.0   \n",
              "...                ...     ...            ...              ...          ...   \n",
              "1995               0.5     1.0            0.0       140.670156         13.0   \n",
              "1996               0.5     1.0            0.0       271.232774         21.0   \n",
              "1997               0.5     1.0            0.0       406.150039         31.0   \n",
              "1998               0.5     1.0            0.0       105.350928         11.0   \n",
              "1999               0.5     1.0            0.0       440.533112         39.0   \n",
              "\n",
              "      total measurements  transition rate  \n",
              "0                  221.0              0.1  \n",
              "1                  108.0              0.1  \n",
              "2                   46.0              0.1  \n",
              "3                   73.0              0.1  \n",
              "4                   44.0              0.1  \n",
              "...                  ...              ...  \n",
              "1995                80.0              0.1  \n",
              "1996               133.0              0.1  \n",
              "1997               185.0              0.1  \n",
              "1998                57.0              0.1  \n",
              "1999               212.0              0.1  \n",
              "\n",
              "[2000 rows x 7 columns]"
            ],
            "text/html": [
              "\n",
              "  <div id=\"df-e313eb3e-ff37-46cb-a8c5-a84b238b311c\">\n",
              "    <div class=\"colab-df-container\">\n",
              "      <div>\n",
              "<style scoped>\n",
              "    .dataframe tbody tr th:only-of-type {\n",
              "        vertical-align: middle;\n",
              "    }\n",
              "\n",
              "    .dataframe tbody tr th {\n",
              "        vertical-align: top;\n",
              "    }\n",
              "\n",
              "    .dataframe thead th {\n",
              "        text-align: right;\n",
              "    }\n",
              "</style>\n",
              "<table border=\"1\" class=\"dataframe\">\n",
              "  <thead>\n",
              "    <tr style=\"text-align: right;\">\n",
              "      <th></th>\n",
              "      <th>measurement rate</th>\n",
              "      <th>finded</th>\n",
              "      <th>initial state</th>\n",
              "      <th>simulation time</th>\n",
              "      <th>total jumps</th>\n",
              "      <th>total measurements</th>\n",
              "      <th>transition rate</th>\n",
              "    </tr>\n",
              "  </thead>\n",
              "  <tbody>\n",
              "    <tr>\n",
              "      <th>0</th>\n",
              "      <td>0.5</td>\n",
              "      <td>1.0</td>\n",
              "      <td>0.0</td>\n",
              "      <td>487.333820</td>\n",
              "      <td>33.0</td>\n",
              "      <td>221.0</td>\n",
              "      <td>0.1</td>\n",
              "    </tr>\n",
              "    <tr>\n",
              "      <th>1</th>\n",
              "      <td>0.5</td>\n",
              "      <td>1.0</td>\n",
              "      <td>0.0</td>\n",
              "      <td>249.736517</td>\n",
              "      <td>21.0</td>\n",
              "      <td>108.0</td>\n",
              "      <td>0.1</td>\n",
              "    </tr>\n",
              "    <tr>\n",
              "      <th>2</th>\n",
              "      <td>0.5</td>\n",
              "      <td>1.0</td>\n",
              "      <td>0.0</td>\n",
              "      <td>131.682535</td>\n",
              "      <td>9.0</td>\n",
              "      <td>46.0</td>\n",
              "      <td>0.1</td>\n",
              "    </tr>\n",
              "    <tr>\n",
              "      <th>3</th>\n",
              "      <td>0.5</td>\n",
              "      <td>1.0</td>\n",
              "      <td>0.0</td>\n",
              "      <td>126.648172</td>\n",
              "      <td>10.0</td>\n",
              "      <td>73.0</td>\n",
              "      <td>0.1</td>\n",
              "    </tr>\n",
              "    <tr>\n",
              "      <th>4</th>\n",
              "      <td>0.5</td>\n",
              "      <td>1.0</td>\n",
              "      <td>0.0</td>\n",
              "      <td>81.469035</td>\n",
              "      <td>4.0</td>\n",
              "      <td>44.0</td>\n",
              "      <td>0.1</td>\n",
              "    </tr>\n",
              "    <tr>\n",
              "      <th>...</th>\n",
              "      <td>...</td>\n",
              "      <td>...</td>\n",
              "      <td>...</td>\n",
              "      <td>...</td>\n",
              "      <td>...</td>\n",
              "      <td>...</td>\n",
              "      <td>...</td>\n",
              "    </tr>\n",
              "    <tr>\n",
              "      <th>1995</th>\n",
              "      <td>0.5</td>\n",
              "      <td>1.0</td>\n",
              "      <td>0.0</td>\n",
              "      <td>140.670156</td>\n",
              "      <td>13.0</td>\n",
              "      <td>80.0</td>\n",
              "      <td>0.1</td>\n",
              "    </tr>\n",
              "    <tr>\n",
              "      <th>1996</th>\n",
              "      <td>0.5</td>\n",
              "      <td>1.0</td>\n",
              "      <td>0.0</td>\n",
              "      <td>271.232774</td>\n",
              "      <td>21.0</td>\n",
              "      <td>133.0</td>\n",
              "      <td>0.1</td>\n",
              "    </tr>\n",
              "    <tr>\n",
              "      <th>1997</th>\n",
              "      <td>0.5</td>\n",
              "      <td>1.0</td>\n",
              "      <td>0.0</td>\n",
              "      <td>406.150039</td>\n",
              "      <td>31.0</td>\n",
              "      <td>185.0</td>\n",
              "      <td>0.1</td>\n",
              "    </tr>\n",
              "    <tr>\n",
              "      <th>1998</th>\n",
              "      <td>0.5</td>\n",
              "      <td>1.0</td>\n",
              "      <td>0.0</td>\n",
              "      <td>105.350928</td>\n",
              "      <td>11.0</td>\n",
              "      <td>57.0</td>\n",
              "      <td>0.1</td>\n",
              "    </tr>\n",
              "    <tr>\n",
              "      <th>1999</th>\n",
              "      <td>0.5</td>\n",
              "      <td>1.0</td>\n",
              "      <td>0.0</td>\n",
              "      <td>440.533112</td>\n",
              "      <td>39.0</td>\n",
              "      <td>212.0</td>\n",
              "      <td>0.1</td>\n",
              "    </tr>\n",
              "  </tbody>\n",
              "</table>\n",
              "<p>2000 rows × 7 columns</p>\n",
              "</div>\n",
              "      <button class=\"colab-df-convert\" onclick=\"convertToInteractive('df-e313eb3e-ff37-46cb-a8c5-a84b238b311c')\"\n",
              "              title=\"Convert this dataframe to an interactive table.\"\n",
              "              style=\"display:none;\">\n",
              "        \n",
              "  <svg xmlns=\"http://www.w3.org/2000/svg\" height=\"24px\"viewBox=\"0 0 24 24\"\n",
              "       width=\"24px\">\n",
              "    <path d=\"M0 0h24v24H0V0z\" fill=\"none\"/>\n",
              "    <path d=\"M18.56 5.44l.94 2.06.94-2.06 2.06-.94-2.06-.94-.94-2.06-.94 2.06-2.06.94zm-11 1L8.5 8.5l.94-2.06 2.06-.94-2.06-.94L8.5 2.5l-.94 2.06-2.06.94zm10 10l.94 2.06.94-2.06 2.06-.94-2.06-.94-.94-2.06-.94 2.06-2.06.94z\"/><path d=\"M17.41 7.96l-1.37-1.37c-.4-.4-.92-.59-1.43-.59-.52 0-1.04.2-1.43.59L10.3 9.45l-7.72 7.72c-.78.78-.78 2.05 0 2.83L4 21.41c.39.39.9.59 1.41.59.51 0 1.02-.2 1.41-.59l7.78-7.78 2.81-2.81c.8-.78.8-2.07 0-2.86zM5.41 20L4 18.59l7.72-7.72 1.47 1.35L5.41 20z\"/>\n",
              "  </svg>\n",
              "      </button>\n",
              "      \n",
              "  <style>\n",
              "    .colab-df-container {\n",
              "      display:flex;\n",
              "      flex-wrap:wrap;\n",
              "      gap: 12px;\n",
              "    }\n",
              "\n",
              "    .colab-df-convert {\n",
              "      background-color: #E8F0FE;\n",
              "      border: none;\n",
              "      border-radius: 50%;\n",
              "      cursor: pointer;\n",
              "      display: none;\n",
              "      fill: #1967D2;\n",
              "      height: 32px;\n",
              "      padding: 0 0 0 0;\n",
              "      width: 32px;\n",
              "    }\n",
              "\n",
              "    .colab-df-convert:hover {\n",
              "      background-color: #E2EBFA;\n",
              "      box-shadow: 0px 1px 2px rgba(60, 64, 67, 0.3), 0px 1px 3px 1px rgba(60, 64, 67, 0.15);\n",
              "      fill: #174EA6;\n",
              "    }\n",
              "\n",
              "    [theme=dark] .colab-df-convert {\n",
              "      background-color: #3B4455;\n",
              "      fill: #D2E3FC;\n",
              "    }\n",
              "\n",
              "    [theme=dark] .colab-df-convert:hover {\n",
              "      background-color: #434B5C;\n",
              "      box-shadow: 0px 1px 3px 1px rgba(0, 0, 0, 0.15);\n",
              "      filter: drop-shadow(0px 1px 2px rgba(0, 0, 0, 0.3));\n",
              "      fill: #FFFFFF;\n",
              "    }\n",
              "  </style>\n",
              "\n",
              "      <script>\n",
              "        const buttonEl =\n",
              "          document.querySelector('#df-e313eb3e-ff37-46cb-a8c5-a84b238b311c button.colab-df-convert');\n",
              "        buttonEl.style.display =\n",
              "          google.colab.kernel.accessAllowed ? 'block' : 'none';\n",
              "\n",
              "        async function convertToInteractive(key) {\n",
              "          const element = document.querySelector('#df-e313eb3e-ff37-46cb-a8c5-a84b238b311c');\n",
              "          const dataTable =\n",
              "            await google.colab.kernel.invokeFunction('convertToInteractive',\n",
              "                                                     [key], {});\n",
              "          if (!dataTable) return;\n",
              "\n",
              "          const docLinkHtml = 'Like what you see? Visit the ' +\n",
              "            '<a target=\"_blank\" href=https://colab.research.google.com/notebooks/data_table.ipynb>data table notebook</a>'\n",
              "            + ' to learn more about interactive tables.';\n",
              "          element.innerHTML = '';\n",
              "          dataTable['output_type'] = 'display_data';\n",
              "          await google.colab.output.renderOutput(dataTable, element);\n",
              "          const docLink = document.createElement('div');\n",
              "          docLink.innerHTML = docLinkHtml;\n",
              "          element.appendChild(docLink);\n",
              "        }\n",
              "      </script>\n",
              "    </div>\n",
              "  </div>\n",
              "  "
            ]
          },
          "metadata": {},
          "execution_count": 44
        }
      ]
    },
    {
      "cell_type": "code",
      "metadata": {
        "colab": {
          "base_uri": "https://localhost:8080/"
        },
        "id": "efFVAFonklJo",
        "outputId": "c54eb71e-d97f-4de6-ac5f-cc7674664ad0"
      },
      "source": [
        "print(\"Number of simulations:\", len(results_qw))\n",
        "print(\"Average of number of measurements:\", results_qw['total measurements'].mean())\n",
        "print(\"Average of hitting times:\", results_qw['simulation time'].mean())\n",
        "print(\"\\nExpected hitting time:\", hitting_times_q[initial_node])\n",
        "print(\"\\nStandard deviation\")\n",
        "print(\"Standard deviation of number of measurements:\", results_qw['total measurements'].std())\n",
        "print(\"Standard deviation of hitting times:\", results_qw['simulation time'].std())"
      ],
      "execution_count": 47,
      "outputs": [
        {
          "output_type": "stream",
          "name": "stdout",
          "text": [
            "Number of simulations: 2000\n",
            "Average of number of measurements: 94.0085\n",
            "Average of hitting times: 188.4391148825643\n",
            "\n",
            "Expected hitting time: 192.35089846983217\n",
            "\n",
            "Standard deviation\n",
            "Standard deviation of number of measurements: 79.0777217096281\n",
            "Standard deviation of hitting times: 155.6251541362211\n"
          ]
        }
      ]
    }
  ]
}